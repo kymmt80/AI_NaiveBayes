{
 "cells": [
  {
   "cell_type": "markdown",
   "id": "9fee1208",
   "metadata": {},
   "source": [
    "# Naive Bayse Classifier"
   ]
  },
  {
   "cell_type": "code",
   "execution_count": 1,
   "id": "d37ee7c2",
   "metadata": {},
   "outputs": [],
   "source": [
    "import pandas as pd\n",
    "import hazm\n",
    "import parsivar as par\n",
    "import matplotlib as mp\n",
    "import copy"
   ]
  },
  {
   "cell_type": "code",
   "execution_count": 2,
   "id": "6a5068f7",
   "metadata": {},
   "outputs": [],
   "source": [
    "train_data=pd.read_csv(\"./Data/divar_train.csv\");"
   ]
  },
  {
   "cell_type": "markdown",
   "id": "86c1de4d",
   "metadata": {},
   "source": [
    "## Phase1: Preprocess\n",
    "1-in this part, the given data is normalized. the methods we can use include:\n",
    " - stemming: this method finds the stem of the word regardless of the context, it simply reads the input word by word and tries to reduce the word to a base form.\n",
    " \n",
    " - lemmatisation: this method reduces the word to its base form considering the context. it takes into account the part of speech of the word and makes decisions accordingly, hence it can be more accurate but is slower.\n",
    " \n",
    "for our preprocess, we used the the \"hazm\" library for stemming because it was faster than other options and the results were acceptable.\n",
    "we used stemming over lemmatisation because it was faster."
   ]
  },
  {
   "cell_type": "code",
   "execution_count": 3,
   "id": "335a323e",
   "metadata": {},
   "outputs": [],
   "source": [
    "def normalize(train_data):\n",
    "    for i in range(len(train_data[\"description\"])):\n",
    "        tokenizer = par.Tokenizer()\n",
    "        train_data[\"description\"][i]=tokenizer.tokenize_words(train_data[\"description\"][i])\n",
    "        train_data[\"title\"][i]=tokenizer.tokenize_words(train_data[\"title\"][i])\n",
    "        for j in range(len(train_data[\"description\"][i])):   \n",
    "            stemmer=hazm.Stemmer();\n",
    "            train_data[\"description\"][i][j]=stemmer.stem(train_data[\"description\"][i][j] );"
   ]
  },
  {
   "cell_type": "code",
   "execution_count": 4,
   "id": "d23c98e2",
   "metadata": {},
   "outputs": [
    {
     "data": {
      "text/html": [
       "<div>\n",
       "<style scoped>\n",
       "    .dataframe tbody tr th:only-of-type {\n",
       "        vertical-align: middle;\n",
       "    }\n",
       "\n",
       "    .dataframe tbody tr th {\n",
       "        vertical-align: top;\n",
       "    }\n",
       "\n",
       "    .dataframe thead th {\n",
       "        text-align: right;\n",
       "    }\n",
       "</style>\n",
       "<table border=\"1\" class=\"dataframe\">\n",
       "  <thead>\n",
       "    <tr style=\"text-align: right;\">\n",
       "      <th></th>\n",
       "      <th>title</th>\n",
       "      <th>description</th>\n",
       "      <th>categories</th>\n",
       "    </tr>\n",
       "  </thead>\n",
       "  <tbody>\n",
       "    <tr>\n",
       "      <th>0</th>\n",
       "      <td>[بلبل, خرمایی]</td>\n",
       "      <td>[سه, عدد, بلبل, خرما, سه, ماهه.از, وقت, جوجه, ...</td>\n",
       "      <td>leisure-hobbies</td>\n",
       "    </tr>\n",
       "    <tr>\n",
       "      <th>1</th>\n",
       "      <td>[عینک, اسکی, در, حد]</td>\n",
       "      <td>[عینک, اسک, دبل, لنز, مارک, يو, وكس, در, حد, ن...</td>\n",
       "      <td>leisure-hobbies</td>\n",
       "    </tr>\n",
       "    <tr>\n",
       "      <th>2</th>\n",
       "      <td>[تکیه, سر, تویوتا, پرادو]</td>\n",
       "      <td>[پارچه, ا, سال, و, تمیز.]</td>\n",
       "      <td>vehicles</td>\n",
       "    </tr>\n",
       "    <tr>\n",
       "      <th>3</th>\n",
       "      <td>[مجسمه, کریستال24%]</td>\n",
       "      <td>[مجسمه, دکور, کریستال, بالرین, Rcr24%]</td>\n",
       "      <td>for-the-home</td>\n",
       "    </tr>\n",
       "    <tr>\n",
       "      <th>4</th>\n",
       "      <td>[کیف, و, ساک]</td>\n",
       "      <td>[هر, 2, کاملا, تمیز, هستند]</td>\n",
       "      <td>personal</td>\n",
       "    </tr>\n",
       "    <tr>\n",
       "      <th>...</th>\n",
       "      <td>...</td>\n",
       "      <td>...</td>\n",
       "      <td>...</td>\n",
       "    </tr>\n",
       "    <tr>\n",
       "      <th>10195</th>\n",
       "      <td>[ان, هاش, 85]</td>\n",
       "      <td>[نیمه, دو, همه, چ, به, شرط, در, حد, خشک, 260تا...</td>\n",
       "      <td>vehicles</td>\n",
       "    </tr>\n",
       "    <tr>\n",
       "      <th>10196</th>\n",
       "      <td>[405, دوگانه, کارخانه., تمیز]</td>\n",
       "      <td>[فابریک, 4, حلقه, لاستیک, 205, نو, بیمه, یکسال...</td>\n",
       "      <td>vehicles</td>\n",
       "    </tr>\n",
       "    <tr>\n",
       "      <th>10197</th>\n",
       "      <td>[بخاری, گازی, دودکش, دار, پلار]</td>\n",
       "      <td>[بخار, نو, و, بسیار, تمیز, هست, با, مشتر, واقع...</td>\n",
       "      <td>for-the-home</td>\n",
       "    </tr>\n",
       "    <tr>\n",
       "      <th>10198</th>\n",
       "      <td>[نر, کله, برنجی, چتری]</td>\n",
       "      <td>[سلا, به, دلیل, کمبود, جا, واسباب, کش, به, ک, ...</td>\n",
       "      <td>leisure-hobbies</td>\n",
       "    </tr>\n",
       "    <tr>\n",
       "      <th>10199</th>\n",
       "      <td>[پراید111سفید]</td>\n",
       "      <td>[پراید111se, سفید.مدل93.درب, جلو, سم, شاگرد, ا...</td>\n",
       "      <td>vehicles</td>\n",
       "    </tr>\n",
       "  </tbody>\n",
       "</table>\n",
       "<p>10200 rows × 3 columns</p>\n",
       "</div>"
      ],
      "text/plain": [
       "                                 title  \\\n",
       "0                       [بلبل, خرمایی]   \n",
       "1                 [عینک, اسکی, در, حد]   \n",
       "2            [تکیه, سر, تویوتا, پرادو]   \n",
       "3                  [مجسمه, کریستال24%]   \n",
       "4                        [کیف, و, ساک]   \n",
       "...                                ...   \n",
       "10195                    [ان, هاش, 85]   \n",
       "10196    [405, دوگانه, کارخانه., تمیز]   \n",
       "10197  [بخاری, گازی, دودکش, دار, پلار]   \n",
       "10198           [نر, کله, برنجی, چتری]   \n",
       "10199                   [پراید111سفید]   \n",
       "\n",
       "                                             description       categories  \n",
       "0      [سه, عدد, بلبل, خرما, سه, ماهه.از, وقت, جوجه, ...  leisure-hobbies  \n",
       "1      [عینک, اسک, دبل, لنز, مارک, يو, وكس, در, حد, ن...  leisure-hobbies  \n",
       "2                              [پارچه, ا, سال, و, تمیز.]         vehicles  \n",
       "3                 [مجسمه, دکور, کریستال, بالرین, Rcr24%]     for-the-home  \n",
       "4                            [هر, 2, کاملا, تمیز, هستند]         personal  \n",
       "...                                                  ...              ...  \n",
       "10195  [نیمه, دو, همه, چ, به, شرط, در, حد, خشک, 260تا...         vehicles  \n",
       "10196  [فابریک, 4, حلقه, لاستیک, 205, نو, بیمه, یکسال...         vehicles  \n",
       "10197  [بخار, نو, و, بسیار, تمیز, هست, با, مشتر, واقع...     for-the-home  \n",
       "10198  [سلا, به, دلیل, کمبود, جا, واسباب, کش, به, ک, ...  leisure-hobbies  \n",
       "10199  [پراید111se, سفید.مدل93.درب, جلو, سم, شاگرد, ا...         vehicles  \n",
       "\n",
       "[10200 rows x 3 columns]"
      ]
     },
     "execution_count": 4,
     "metadata": {},
     "output_type": "execute_result"
    }
   ],
   "source": [
    "train_data=pd.read_csv(\"./Data/divar_train.csv\");\n",
    "normalize(train_data);\n",
    "train_data"
   ]
  },
  {
   "cell_type": "markdown",
   "id": "8d939566",
   "metadata": {},
   "source": [
    "## Phase 2: Making Model"
   ]
  },
  {
   "cell_type": "markdown",
   "id": "97d16221",
   "metadata": {},
   "source": [
    "### Bag of Words\n",
    "the goal is to creat a model to predict the lable of each input in test data. for this we use the bag of words methods where the placement of each word is ignored in our calculations and the sole feature in this model is the frequency of each word. we use the following formula:\n",
    "$$p(c|x)=\\frac{p(x|c)p(c)}{p(x)}$$\n",
    "2-in this formula we have:\n",
    " - posterior probablity(p(c|x)): the aim is to calculate this probality to find the best possible class for input, it is the probabilty of $class=c$ if its title and description contains words $X=[x_1,x_2,...x_n]$].\n",
    " \n",
    " - likelihood(p(x|c)): this is the probability of seeing word x in class c, and is calculated as this:\n",
    " \n",
    " $$\\frac{number\\;of\\;times\\;word\\;x\\;has\\;appeared\\;in\\;class\\;c}{total\\;words\\;seen\\;in\\;class\\;c}$$\n",
    " \n",
    " \n",
    " - prior class probabilty(p(c)): this is the probablity of class c happening in general, which is usually determined by  domain experts. in this case, we can assume it is equal to:\n",
    " $$\\frac{number\\;of\\;times\\;class\\;c\\;has\\;appeared\\;in\\;data\\;set}{size\\;of\\;data\\;set}$$\n",
    " \n",
    " - evidence (p(x)): the probablity of  word x appearing, which is equal to:\n",
    " \n",
    " $$\\frac{number\\;of\\;times\\;word\\;x\\;has\\;appeared\\;in\\;dataset}{total\\;words\\;seen\\;in\\;dataset}$$\n",
    " \n",
    "    "
   ]
  },
  {
   "cell_type": "markdown",
   "id": "5372a3fa",
   "metadata": {},
   "source": [
    "### Code for Making a Model"
   ]
  },
  {
   "cell_type": "code",
   "execution_count": 5,
   "id": "a62d0518",
   "metadata": {},
   "outputs": [],
   "source": [
    "categories=train_data[\"categories\"].unique()\n",
    "total_words={\"vehicles\":0, \"leisure-hobbies\":0, \"for-the-home\":0, \"personal\":0, \"electronic-devices\":0,\"businesses\":0}\n",
    "\n",
    "def naive_bayse_model(data):\n",
    "    word_dict={\"vehicles\":{}, \"leisure-hobbies\":{}, \"for-the-home\":{}, \"personal\":{}, \"electronic-devices\":{},\"businesses\":{}}\n",
    "    for i in range(len(data)):\n",
    "        for word in data[\"description\"][i]:\n",
    "            if(word in word_dict[data[\"categories\"][i]]):\n",
    "                word_dict[data[\"categories\"][i]][word]+=1;\n",
    "            else:\n",
    "                word_dict[data[\"categories\"][i]][word]=1;\n",
    "            total_words[data[\"categories\"][i]]+=1;\n",
    "        for word in data[\"title\"][i]:\n",
    "            if(word in word_dict[data[\"categories\"][i]]):\n",
    "                word_dict[data[\"categories\"][i]][word]+=1;\n",
    "            else:\n",
    "                word_dict[data[\"categories\"][i]][word]=1;\n",
    "            total_words[data[\"categories\"][i]]+=1;\n",
    "    return word_dict;\n",
    "            "
   ]
  },
  {
   "cell_type": "code",
   "execution_count": 6,
   "id": "0e62a45c",
   "metadata": {},
   "outputs": [],
   "source": [
    "model=naive_bayse_model(train_data);"
   ]
  },
  {
   "cell_type": "markdown",
   "id": "758bae7e",
   "metadata": {},
   "source": [
    "### Naive Bayes Code"
   ]
  },
  {
   "cell_type": "code",
   "execution_count": 7,
   "id": "8f5f3e8d",
   "metadata": {},
   "outputs": [],
   "source": [
    "def naive_bayes(test,model):\n",
    "    for i in range(len(test)):\n",
    "        cur_cat=0;\n",
    "        p_max=0;\n",
    "        for cat in categories:\n",
    "            p_all=1;\n",
    "            for word in test[\"description\"][i]:\n",
    "                if word in model[cat]:\n",
    "                    p=(model[cat][word])/total_words[cat];\n",
    "                    p_all=p*p_all;\n",
    "                else:\n",
    "                    p_all*=0.00000000001;\n",
    "            for word in test[\"title\"][i]:\n",
    "                if word in model[cat]:\n",
    "                    p=(model[cat][word])/total_words[cat];\n",
    "                    p_all=p*p_all;\n",
    "                else:\n",
    "                    p_all*=0;\n",
    "                            \n",
    "            if p_all>=p_max:\n",
    "                p_max=p_all;\n",
    "                cur_cat=cat;\n",
    "        test[\"categories\"][i]=cur_cat;\n",
    "    return test;"
   ]
  },
  {
   "cell_type": "markdown",
   "id": "c25936dd",
   "metadata": {},
   "source": [
    "## Bigrams\n",
    "sometimes, a single word may have different meanings in different context. for example take these two sentences:\n",
    "\n",
    "1-شیر آب باز است.\n",
    "\n",
    "2-شیر غرش می‌کند.\n",
    "\n",
    "the word شیر has two different meanings in these two sentences, and this would be lost in unigrams we used in previous part. however, if we take two words each time, then we have these conbinations:\n",
    "\n",
    "1-\"شیر غرش\"\n",
    "\n",
    "2-\"شیر آب\"\n",
    "\n",
    "which can show the difference in meaning to some extent. in this example bigram worked fine. but sometimes we may need more words (n-gram) to determine the meaning."
   ]
  },
  {
   "cell_type": "markdown",
   "id": "a37f33de",
   "metadata": {},
   "source": [
    "## Additive Smoothing\n",
    "\n",
    "4-this problem happens because if a word is only in one class, if we call that class $c$ and that word $x_1$, according to naive bayes formula, for every class $c'$ such that $c'\\neq c$ we have:\n",
    "$$p(c'|X)=p(c'|x_1)\\times...\\times p(c'|x_n) \\rightarrow  p(c'|x_1)=\\frac{p(x_1|c')p(c')}{p(x_1)}=0\\rightarrow p(c'|X)=0$$\n",
    "so for every other class, $p(c'|X)=0$ and class $c$ will always be choosen.\n",
    "\n",
    "5-one solution for this problem is additive smoothing. In this method, p(c|x) is computed as follows:\n",
    "\n",
    "$$p(c|x)=\\frac{number\\;of\\;x\\;in\\;class\\;c+ \\alpha}{number\\;of\\;x\\;+k\\times \\alpha}$$\n",
    "\n",
    "where k is the number of features (here it is 1) and $\\alpha$ is the smoothing parameter.\n",
    "This way, in case of no occurrence of x, p(c|x) would not be 0, so the problem above wont occur."
   ]
  },
  {
   "cell_type": "code",
   "execution_count": 8,
   "id": "d8d1bbf6",
   "metadata": {},
   "outputs": [],
   "source": [
    "def smooth_naive_bayes(test,model,alpha):\n",
    "    for i in range(len(test)):\n",
    "        cur_cat=0;\n",
    "        p_max=0;\n",
    "        for cat in categories:\n",
    "            p_all=1;\n",
    "            for word in test[\"description\"][i]:\n",
    "                if word in model[cat]:\n",
    "                    p=(model[cat][word]+alpha)/(total_words[cat]+alpha);\n",
    "                    p_all=p*p_all;\n",
    "                else:\n",
    "                    p_all*=(alpha)/(total_words[cat]+alpha);\n",
    "            for word in test[\"title\"][i]:\n",
    "                if word in model[cat]:\n",
    "                    p=(model[cat][word]+alpha)/(total_words[cat]+alpha);\n",
    "                    p_all=p*p_all;\n",
    "                else:\n",
    "                    p_all*=(alpha)/(total_words[cat]+alpha);\n",
    "                            \n",
    "            if p_all>=p_max:\n",
    "                p_max=p_all;\n",
    "                cur_cat=cat;\n",
    "        test[\"categories\"][i]=cur_cat;\n",
    "    return test;"
   ]
  },
  {
   "cell_type": "markdown",
   "id": "bf2d5297",
   "metadata": {},
   "source": [
    "## Model Graph\n",
    "bellow,the most common words of each class is shown, we can see that the most common words are the same in these classes but removing them did not improve the result, so we kept them."
   ]
  },
  {
   "cell_type": "code",
   "execution_count": 9,
   "id": "41a1af92",
   "metadata": {
    "scrolled": false
   },
   "outputs": [
    {
     "data": {
      "image/png": "[encoded data removed]",
      "text/plain": [
       "<Figure size 432x288 with 1 Axes>"
      ]
     },
     "metadata": {
      "needs_background": "light"
     },
     "output_type": "display_data"
    },
    {
     "data": {
      "image/png": "[encoded data removed]",
      "text/plain": [
       "<Figure size 432x288 with 1 Axes>"
      ]
     },
     "metadata": {
      "needs_background": "light"
     },
     "output_type": "display_data"
    },
    {
     "data": {
      "image/png": "[encoded data removed]",
      "text/plain": [
       "<Figure size 432x288 with 1 Axes>"
      ]
     },
     "metadata": {
      "needs_background": "light"
     },
     "output_type": "display_data"
    },
    {
     "data": {
      "image/png": "[encoded data removed]",
      "text/plain": [
       "<Figure size 432x288 with 1 Axes>"
      ]
     },
     "metadata": {
      "needs_background": "light"
     },
     "output_type": "display_data"
    },
    {
     "data": {
      "image/png": "[encoded data removed]",
      "text/plain": [
       "<Figure size 432x288 with 1 Axes>"
      ]
     },
     "metadata": {
      "needs_background": "light"
     },
     "output_type": "display_data"
    },
    {
     "data": {
      "image/png": "[encoded data removed]",
      "text/plain": [
       "<Figure size 432x288 with 1 Axes>"
      ]
     },
     "metadata": {
      "needs_background": "light"
     },
     "output_type": "display_data"
    },
    {
     "data": {
      "text/plain": [
       "<Figure size 432x288 with 0 Axes>"
      ]
     },
     "metadata": {},
     "output_type": "display_data"
    }
   ],
   "source": [
    "model2=pd.DataFrame(model);\n",
    "model2\n",
    "\n",
    "for col in train_data[\"categories\"].unique():\n",
    "    temp=model2.nlargest(5, [col]);\n",
    "    temp[col].plot.bar();\n",
    "    mp.pyplot.xlabel(col);\n",
    "    mp.pyplot.ylabel(\"count\");\n",
    "    mp.pyplot.show();\n",
    "    mp.pyplot.clf();"
   ]
  },
  {
   "cell_type": "markdown",
   "id": "819ab500",
   "metadata": {},
   "source": [
    "## Phase3: Evaluate\n",
    "we use these methods to evaluate our model:\n",
    "\n",
    "$$Accuracy=\\frac{correct\\;detected}{total}$$\n",
    "\n",
    "$$Precision=\\frac{correct\\;detected\\;class}{total\\;detected\\;class}$$\n",
    "\n",
    "$$Recall=\\frac{correct\\;detected\\;class}{total\\;class}$$\n",
    "\n",
    "$$F1=2\\times\\frac{Precision\\times Recall}{Precision+ Recall}$$\n",
    "\n",
    "7-Why do we need both Precision and Recall?\n",
    "\n",
    "imagine these two cases:\n",
    "\n",
    "  - we design our model to always return \"personal\".if we give it a data set of size 100000 with just 1 instance of class \"personal\",with Recall score, our model will get an excelent score of 1 , because it has labled all of \"personal\" class correctly, however, our model preforms poorly because it has too many wrong detections and can never detect a class that is not \"personal\".\n",
    "\n",
    "\n",
    "  - imagine if the test has 500 members of class \"personal\" and our model predicts 5 of these to belong to class \"personal\" and does not make a mistake in these 5. then we get precision=1 for class \"personal\" because all of the predictions were correct, however we get low recall score because our model has just detected 5 of 500 instances of class \"personal\" and in general had a poor result.\n",
    "  \n",
    "8- F1 uses the \"Harmonic Mean\" of Recall and Precision. Harmonic mean increases the effect of small values and decreases the effect of large ones.F1 uses harmonic mean because harmonic mean favors balance between Recall and Precision.\n",
    "\n",
    "9- Since this classification problem has multiple classes, We evaluate overall preformance of our model using following  methods:\n",
    " - Macro Avg:this is the normal mean of data, for example Macro F1 would be:\n",
    " $$\\frac{F1_{c1}+F1_{c2}+...+F1_{c6}}{6}$$\n",
    " \n",
    " - Micro Avg:this is equal to accuracy:\n",
    " $$Micro Avg=\\frac{correct\\;detected}{total}$$\n",
    " \n",
    " - Weighted Avg: this is the weighted mean of data, each data has a weight equal to number of times it has appeared in the test"
   ]
  },
  {
   "cell_type": "markdown",
   "id": "a84136ad",
   "metadata": {},
   "source": [
    "### Analyze Function"
   ]
  },
  {
   "cell_type": "code",
   "execution_count": 10,
   "id": "28a7551d",
   "metadata": {},
   "outputs": [],
   "source": [
    "def analyse(out,expected, cat,table):\n",
    "    tp=0\n",
    "    tn=0\n",
    "    fp=0\n",
    "    fn=0\n",
    "    for i in range(len(out)):\n",
    "        if out[\"categories\"][i]==cat and expected[\"categories\"][i]==cat:\n",
    "            tp+=1\n",
    "        elif out[\"categories\"][i]==cat and expected[\"categories\"][i]!=cat:\n",
    "            fp+=1\n",
    "        elif out[\"categories\"][i]!=cat and expected[\"categories\"][i]==cat:\n",
    "            fn+=1\n",
    "        elif out[\"categories\"][i]!=cat and expected[\"categories\"][i]!=cat:\n",
    "            tn+=1\n",
    "    recall=tp/(tp+fp)\n",
    "    precision=tp/(tp+fn)\n",
    "    f1=2*((recall*precision)/(recall+precision))\n",
    "    table[cat][\"Recall\"]=recall\n",
    "    table[cat][\"Precision\"]=precision\n",
    "    table[cat][\"F1\"]=f1"
   ]
  },
  {
   "cell_type": "code",
   "execution_count": 11,
   "id": "12c4274e",
   "metadata": {},
   "outputs": [],
   "source": [
    "def complete_analysis(output,test_data):\n",
    "    \n",
    "    #Creating The Table\n",
    "    cols=list(copy.deepcopy(categories))\n",
    "    cols.append(\"All Classes\")\n",
    "    table=pd.DataFrame(index=pd.Index(['Precision', 'Recall', 'F1', 'Accuracy', 'Macro Avg', 'Micro Avg', 'Weighted Avg']),columns=pd.Index(cols))\n",
    "    \n",
    "    #Accuracy and Micro Avg\n",
    "    acc=output[\"categories\"]==test_data[\"categories\"]\n",
    "    o=acc.value_counts(normalize=True).rename_axis('value').reset_index(name='percent')\n",
    "    table[\"All Classes\"][\"Accuracy\"]=o[\"percent\"][0]\n",
    "    table[\"All Classes\"][\"Micro Avg\"]=o[\"percent\"][0]\n",
    "\n",
    "    #Categories data\n",
    "    for cat in categories:\n",
    "        analyse(output,test_data,cat,table)\n",
    "    \n",
    "    #Macro Avg\n",
    "    summ=0\n",
    "    for cat in categories:\n",
    "        summ+=table[cat]['F1']\n",
    "    table['All Classes']['Macro Avg']=summ/6\n",
    "\n",
    "    #Weighted Avg\n",
    "    val_count=output[\"categories\"].value_counts(normalize=True).rename_axis('value').reset_index(name='percent')\n",
    "    summ=0\n",
    "    for i in range(len(categories)):\n",
    "        summ+=table[categories[i]]['F1']*val_count[\"percent\"][i]\n",
    "    table['All Classes']['Weighted Avg']=summ\n",
    "    \n",
    "    #Final Table\n",
    "    display(table)"
   ]
  },
  {
   "cell_type": "markdown",
   "id": "7945487e",
   "metadata": {},
   "source": [
    "### Loading Test Data\n",
    "10 - in this part we test our model with test data"
   ]
  },
  {
   "cell_type": "code",
   "execution_count": 12,
   "id": "761baadd",
   "metadata": {},
   "outputs": [],
   "source": [
    "test_data=pd.read_csv(\"./Data/divar_test.csv\");\n",
    "normalize(test_data);"
   ]
  },
  {
   "cell_type": "markdown",
   "id": "cc18e3b6",
   "metadata": {},
   "source": [
    "### Normal Naive Bayes Result (without additive smoothing)"
   ]
  },
  {
   "cell_type": "code",
   "execution_count": 13,
   "id": "46453eab",
   "metadata": {},
   "outputs": [
    {
     "data": {
      "text/html": [
       "<div>\n",
       "<style scoped>\n",
       "    .dataframe tbody tr th:only-of-type {\n",
       "        vertical-align: middle;\n",
       "    }\n",
       "\n",
       "    .dataframe tbody tr th {\n",
       "        vertical-align: top;\n",
       "    }\n",
       "\n",
       "    .dataframe thead th {\n",
       "        text-align: right;\n",
       "    }\n",
       "</style>\n",
       "<table border=\"1\" class=\"dataframe\">\n",
       "  <thead>\n",
       "    <tr style=\"text-align: right;\">\n",
       "      <th></th>\n",
       "      <th>leisure-hobbies</th>\n",
       "      <th>vehicles</th>\n",
       "      <th>for-the-home</th>\n",
       "      <th>personal</th>\n",
       "      <th>electronic-devices</th>\n",
       "      <th>businesses</th>\n",
       "      <th>All Classes</th>\n",
       "    </tr>\n",
       "  </thead>\n",
       "  <tbody>\n",
       "    <tr>\n",
       "      <th>Precision</th>\n",
       "      <td>0.486667</td>\n",
       "      <td>0.48</td>\n",
       "      <td>0.59</td>\n",
       "      <td>0.54</td>\n",
       "      <td>0.39</td>\n",
       "      <td>0.876667</td>\n",
       "      <td>NaN</td>\n",
       "    </tr>\n",
       "    <tr>\n",
       "      <th>Recall</th>\n",
       "      <td>0.884848</td>\n",
       "      <td>0.941176</td>\n",
       "      <td>0.804545</td>\n",
       "      <td>0.895028</td>\n",
       "      <td>0.928571</td>\n",
       "      <td>0.275393</td>\n",
       "      <td>NaN</td>\n",
       "    </tr>\n",
       "    <tr>\n",
       "      <th>F1</th>\n",
       "      <td>0.627957</td>\n",
       "      <td>0.635762</td>\n",
       "      <td>0.680769</td>\n",
       "      <td>0.673597</td>\n",
       "      <td>0.549296</td>\n",
       "      <td>0.419124</td>\n",
       "      <td>NaN</td>\n",
       "    </tr>\n",
       "    <tr>\n",
       "      <th>Accuracy</th>\n",
       "      <td>NaN</td>\n",
       "      <td>NaN</td>\n",
       "      <td>NaN</td>\n",
       "      <td>NaN</td>\n",
       "      <td>NaN</td>\n",
       "      <td>NaN</td>\n",
       "      <td>0.560556</td>\n",
       "    </tr>\n",
       "    <tr>\n",
       "      <th>Macro Avg</th>\n",
       "      <td>NaN</td>\n",
       "      <td>NaN</td>\n",
       "      <td>NaN</td>\n",
       "      <td>NaN</td>\n",
       "      <td>NaN</td>\n",
       "      <td>NaN</td>\n",
       "      <td>0.597751</td>\n",
       "    </tr>\n",
       "    <tr>\n",
       "      <th>Micro Avg</th>\n",
       "      <td>NaN</td>\n",
       "      <td>NaN</td>\n",
       "      <td>NaN</td>\n",
       "      <td>NaN</td>\n",
       "      <td>NaN</td>\n",
       "      <td>NaN</td>\n",
       "      <td>0.560556</td>\n",
       "    </tr>\n",
       "    <tr>\n",
       "      <th>Weighted Avg</th>\n",
       "      <td>NaN</td>\n",
       "      <td>NaN</td>\n",
       "      <td>NaN</td>\n",
       "      <td>NaN</td>\n",
       "      <td>NaN</td>\n",
       "      <td>NaN</td>\n",
       "      <td>0.617101</td>\n",
       "    </tr>\n",
       "  </tbody>\n",
       "</table>\n",
       "</div>"
      ],
      "text/plain": [
       "             leisure-hobbies  vehicles for-the-home  personal  \\\n",
       "Precision           0.486667      0.48         0.59      0.54   \n",
       "Recall              0.884848  0.941176     0.804545  0.895028   \n",
       "F1                  0.627957  0.635762     0.680769  0.673597   \n",
       "Accuracy                 NaN       NaN          NaN       NaN   \n",
       "Macro Avg                NaN       NaN          NaN       NaN   \n",
       "Micro Avg                NaN       NaN          NaN       NaN   \n",
       "Weighted Avg             NaN       NaN          NaN       NaN   \n",
       "\n",
       "             electronic-devices businesses All Classes  \n",
       "Precision                  0.39   0.876667         NaN  \n",
       "Recall                 0.928571   0.275393         NaN  \n",
       "F1                     0.549296   0.419124         NaN  \n",
       "Accuracy                    NaN        NaN    0.560556  \n",
       "Macro Avg                   NaN        NaN    0.597751  \n",
       "Micro Avg                   NaN        NaN    0.560556  \n",
       "Weighted Avg                NaN        NaN    0.617101  "
      ]
     },
     "metadata": {},
     "output_type": "display_data"
    }
   ],
   "source": [
    "output=naive_bayes(copy.deepcopy(test_data),model);\n",
    "complete_analysis(output,test_data)"
   ]
  },
  {
   "cell_type": "markdown",
   "id": "f5187a82",
   "metadata": {},
   "source": [
    "### Naive Bayes With Additive Smoothing Result"
   ]
  },
  {
   "cell_type": "code",
   "execution_count": 14,
   "id": "36d8399e",
   "metadata": {},
   "outputs": [
    {
     "data": {
      "text/html": [
       "<div>\n",
       "<style scoped>\n",
       "    .dataframe tbody tr th:only-of-type {\n",
       "        vertical-align: middle;\n",
       "    }\n",
       "\n",
       "    .dataframe tbody tr th {\n",
       "        vertical-align: top;\n",
       "    }\n",
       "\n",
       "    .dataframe thead th {\n",
       "        text-align: right;\n",
       "    }\n",
       "</style>\n",
       "<table border=\"1\" class=\"dataframe\">\n",
       "  <thead>\n",
       "    <tr style=\"text-align: right;\">\n",
       "      <th></th>\n",
       "      <th>leisure-hobbies</th>\n",
       "      <th>vehicles</th>\n",
       "      <th>for-the-home</th>\n",
       "      <th>personal</th>\n",
       "      <th>electronic-devices</th>\n",
       "      <th>businesses</th>\n",
       "      <th>All Classes</th>\n",
       "    </tr>\n",
       "  </thead>\n",
       "  <tbody>\n",
       "    <tr>\n",
       "      <th>Precision</th>\n",
       "      <td>0.85</td>\n",
       "      <td>0.903333</td>\n",
       "      <td>0.863333</td>\n",
       "      <td>0.893333</td>\n",
       "      <td>0.886667</td>\n",
       "      <td>0.793333</td>\n",
       "      <td>NaN</td>\n",
       "    </tr>\n",
       "    <tr>\n",
       "      <th>Recall</th>\n",
       "      <td>0.917266</td>\n",
       "      <td>0.940972</td>\n",
       "      <td>0.784848</td>\n",
       "      <td>0.875817</td>\n",
       "      <td>0.926829</td>\n",
       "      <td>0.765273</td>\n",
       "      <td>NaN</td>\n",
       "    </tr>\n",
       "    <tr>\n",
       "      <th>F1</th>\n",
       "      <td>0.882353</td>\n",
       "      <td>0.921769</td>\n",
       "      <td>0.822222</td>\n",
       "      <td>0.884488</td>\n",
       "      <td>0.906303</td>\n",
       "      <td>0.779051</td>\n",
       "      <td>NaN</td>\n",
       "    </tr>\n",
       "    <tr>\n",
       "      <th>Accuracy</th>\n",
       "      <td>NaN</td>\n",
       "      <td>NaN</td>\n",
       "      <td>NaN</td>\n",
       "      <td>NaN</td>\n",
       "      <td>NaN</td>\n",
       "      <td>NaN</td>\n",
       "      <td>0.865</td>\n",
       "    </tr>\n",
       "    <tr>\n",
       "      <th>Macro Avg</th>\n",
       "      <td>NaN</td>\n",
       "      <td>NaN</td>\n",
       "      <td>NaN</td>\n",
       "      <td>NaN</td>\n",
       "      <td>NaN</td>\n",
       "      <td>NaN</td>\n",
       "      <td>0.866031</td>\n",
       "    </tr>\n",
       "    <tr>\n",
       "      <th>Micro Avg</th>\n",
       "      <td>NaN</td>\n",
       "      <td>NaN</td>\n",
       "      <td>NaN</td>\n",
       "      <td>NaN</td>\n",
       "      <td>NaN</td>\n",
       "      <td>NaN</td>\n",
       "      <td>0.865</td>\n",
       "    </tr>\n",
       "    <tr>\n",
       "      <th>Weighted Avg</th>\n",
       "      <td>NaN</td>\n",
       "      <td>NaN</td>\n",
       "      <td>NaN</td>\n",
       "      <td>NaN</td>\n",
       "      <td>NaN</td>\n",
       "      <td>NaN</td>\n",
       "      <td>0.867147</td>\n",
       "    </tr>\n",
       "  </tbody>\n",
       "</table>\n",
       "</div>"
      ],
      "text/plain": [
       "             leisure-hobbies  vehicles for-the-home  personal  \\\n",
       "Precision               0.85  0.903333     0.863333  0.893333   \n",
       "Recall              0.917266  0.940972     0.784848  0.875817   \n",
       "F1                  0.882353  0.921769     0.822222  0.884488   \n",
       "Accuracy                 NaN       NaN          NaN       NaN   \n",
       "Macro Avg                NaN       NaN          NaN       NaN   \n",
       "Micro Avg                NaN       NaN          NaN       NaN   \n",
       "Weighted Avg             NaN       NaN          NaN       NaN   \n",
       "\n",
       "             electronic-devices businesses All Classes  \n",
       "Precision              0.886667   0.793333         NaN  \n",
       "Recall                 0.926829   0.765273         NaN  \n",
       "F1                     0.906303   0.779051         NaN  \n",
       "Accuracy                    NaN        NaN       0.865  \n",
       "Macro Avg                   NaN        NaN    0.866031  \n",
       "Micro Avg                   NaN        NaN       0.865  \n",
       "Weighted Avg                NaN        NaN    0.867147  "
      ]
     },
     "metadata": {},
     "output_type": "display_data"
    }
   ],
   "source": [
    "smooth_output=smooth_naive_bayes(copy.deepcopy(test_data),model,0.1);\n",
    "complete_analysis(smooth_output,test_data)"
   ]
  },
  {
   "cell_type": "markdown",
   "id": "d2af9d11",
   "metadata": {},
   "source": [
    "### Result Analysis\n",
    "11-We can see that adding additive smoothing improved the results. it is because of the existance of new words in test cases and the problems it causes for normal naive bayes."
   ]
  },
  {
   "cell_type": "markdown",
   "id": "225e7c2b",
   "metadata": {},
   "source": [
    "### Analyzing Wrong Answers"
   ]
  },
  {
   "cell_type": "code",
   "execution_count": 15,
   "id": "846dd4d3",
   "metadata": {},
   "outputs": [
    {
     "name": "stdout",
     "output_type": "stream",
     "text": [
      "wrong answer  1  : \n",
      "title:  سیپوراکس  \n",
      "description:  سیپوراکس میکرو مک جی بی ال و سرامیک سرا ، کاهنده نیترات و نیتریت اکواریوم ، درجه یک\n",
      "actual class: leisure-hobbies \n",
      "detected class:  businesses \n",
      "\n",
      "wrong answer  2  : \n",
      "title:  موتور تزیینی  \n",
      "description:  از جنس اهن کار دست عرضه به صورت عمده و تکی\n",
      "actual class: for-the-home \n",
      "detected class:  businesses \n",
      "\n",
      "wrong answer  3  : \n",
      "title:  90عدد بشقاب پیتزا تک نفره قیمت هرعدد 4000  \n",
      "description:  بشقاب پیتزا یک نفره عددی 4000 باتشکراز دیوار.\n",
      "actual class: businesses \n",
      "detected class:  for-the-home \n",
      "\n",
      "wrong answer  4  : \n",
      "title:  پیکور17کیلوییNEK  \n",
      "description:  پیکور 17 کیلوییNEK\n",
      "باهاش خیلی کم کارکردم\n",
      "مخصوص تخریب،سوراخکاری برای تاسیسات،مثل لوله کشی آب ،گاز،هواکش،ودودکش\n",
      "قیمتش خیلی خوبه\n",
      "باتشکر ازدیوار...\n",
      "actual class: businesses \n",
      "detected class:  leisure-hobbies \n",
      "\n",
      "wrong answer  5  : \n",
      "title:  اچارشلاقی HEYCOالمان  \n",
      "description:  اصل المان \n",
      "سایز ۱/۵\n",
      "بسیار مقاوم\n",
      "actual class: businesses \n",
      "detected class:  personal \n",
      "\n"
     ]
    }
   ],
   "source": [
    "test_data=pd.read_csv(\"./Data/divar_test.csv\");\n",
    "j=1\n",
    "for i in range(len(smooth_output)):\n",
    "    if smooth_output[\"categories\"][i]!=test_data[\"categories\"][i]:\n",
    "        print(\"wrong answer \",j,\" :\",\"\\ntitle: \" ,test_data[\"title\"][i],\" \\ndescription: \",test_data[\"description\"][i])\n",
    "        print(\"actual class:\" ,test_data[\"categories\"][i],\"\\ndetected class: \",smooth_output[\"categories\"][i],\"\\n\")\n",
    "        j+=1;\n",
    "    if j>5:\n",
    "        break;"
   ]
  },
  {
   "cell_type": "markdown",
   "id": "79709435",
   "metadata": {},
   "source": [
    "analyzing the above answers, these are the possible reasons of getting wrong answers:\n",
    " - new words: wrong answer may be due to new words in test_data. because when we have new words, the algorithm cannot use that word to decide. One solution would be having more data as training set.\n",
    " - unclear class: in some cases, there may be differen possible classes for the data, and different people may give different answers, so the classification based on words would be insufficient, in this case we may need to change our method."
   ]
  },
  {
   "cell_type": "code",
   "execution_count": null,
   "id": "2e785ed3",
   "metadata": {},
   "outputs": [],
   "source": []
  }
 ],
 "metadata": {
  "kernelspec": {
   "display_name": "Python 3 (ipykernel)",
   "language": "python",
   "name": "python3"
  },
  "language_info": {
   "codemirror_mode": {
    "name": "ipython",
    "version": 3
   },
   "file_extension": ".py",
   "mimetype": "text/x-python",
   "name": "python",
   "nbconvert_exporter": "python",
   "pygments_lexer": "ipython3",
   "version": "3.8.10"
  }
 },
 "nbformat": 4,
 "nbformat_minor": 5
}
